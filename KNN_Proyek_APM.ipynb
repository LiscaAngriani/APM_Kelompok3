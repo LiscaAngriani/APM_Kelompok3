{
  "nbformat": 4,
  "nbformat_minor": 0,
  "metadata": {
    "colab": {
      "name": "KNN_Proyek APM.ipynb",
      "provenance": [],
      "authorship_tag": "ABX9TyPkiFE2ZUMgVRIooPLEMOVC",
      "include_colab_link": true
    },
    "kernelspec": {
      "name": "python3",
      "display_name": "Python 3"
    },
    "language_info": {
      "name": "python"
    }
  },
  "cells": [
    {
      "cell_type": "markdown",
      "metadata": {
        "id": "view-in-github",
        "colab_type": "text"
      },
      "source": [
        "<a href=\"https://colab.research.google.com/github/LiscaAngriani/APM_Kelompok3/blob/main/KNN_Proyek_APM.ipynb\" target=\"_parent\"><img src=\"https://colab.research.google.com/assets/colab-badge.svg\" alt=\"Open In Colab\"/></a>"
      ]
    },
    {
      "cell_type": "code",
      "execution_count": 41,
      "metadata": {
        "id": "nWKjdhCln0S8"
      },
      "outputs": [],
      "source": [
        "#Importing the libraries  \n",
        "\n",
        "import numpy as np \n",
        "import matplotlib.pyplot as plt  \n",
        "import pandas as pd  "
      ]
    },
    {
      "cell_type": "code",
      "source": [
        "#Importing the data\n",
        "\n",
        "dataset= pd.read_csv('nilai_to.csv')  \n",
        "X = dataset.iloc[:, [18,19]].values\n",
        "y = dataset.iloc[:, 19].values\n",
        "\n",
        "dataset.head()"
      ],
      "metadata": {
        "colab": {
          "base_uri": "https://localhost:8080/",
          "height": 461
        },
        "id": "gnVayrp1oU7A",
        "outputId": "3d3b06da-a023-4d17-a993-194eeb6e02f9"
      },
      "execution_count": 42,
      "outputs": [
        {
          "output_type": "execute_result",
          "data": {
            "text/plain": [
              "   Ranking          Nis                    Nama        Sekolah  \\\n",
              "0        1  20307332037      Rizqi Zuhdi Amarta  SMAN 1 PADANG   \n",
              "1        2  20307331061  Resti Natalia Chaniago  SMAN 5 PADANG   \n",
              "2        3  20307331062        Indah Widia Sari  SMAN 5 PADANG   \n",
              "3        4  20307332049                 Mulyadi   MAN 2 PADANG   \n",
              "4        5  20307331058          Elfaiza Warsya   SMA DONBOSCO   \n",
              "\n",
              "                  Nama PTN                            Jurusan      PG  \\\n",
              "0   UNIVERSITAS GAJAH MADA  BANGUNAN SOSIAL DAN KESEJAHTERAAN  653.11   \n",
              "1  UNIVERSITAS GADJAH MADA                            SEJARAH  484.58   \n",
              "2    UNIVERSITAS INDONESIA                     SASTRA INGGRIS  481.70   \n",
              "3    UNIVERSITAS INDONESIA                   SASTRA INDONESIA  465.99   \n",
              "4    UNIVERSITAS INDONESIA           ILMU ADMINISTRASI NEGARA  485.77   \n",
              "\n",
              "   Penalaran Umum  Pemahaman bacaan & menulis  Pengetahuan Umum  \\\n",
              "0             476                         476               598   \n",
              "1             525                         525               595   \n",
              "2             525                         525               560   \n",
              "3             525                         525               560   \n",
              "4             560                         560               490   \n",
              "\n",
              "   Pengetahuan Kuantitatif  Inggris  Ekonomi  Sosiologi  Sejarah  Geografi  \\\n",
              "0                      658      672      621        622      559       642   \n",
              "1                      595      574      560        560      560       595   \n",
              "2                      560      560      560        525      595       560   \n",
              "3                      525      543      560        525      560       525   \n",
              "4                      560      546      525        595      490       490   \n",
              "\n",
              "   Nilai TPS  Nilai TKS  Skor UTBK  Status Ke1an  \n",
              "0     622.76     610.85     617.47             0  \n",
              "1     568.75     569.80     569.28             1  \n",
              "2     560.00     560.00     560.00             1  \n",
              "3     542.50     542.50     542.50             1  \n",
              "4     551.25     529.20     540.23             1  "
            ],
            "text/html": [
              "\n",
              "  <div id=\"df-c9a6a517-ad53-44cb-898f-546a7e8a6f42\">\n",
              "    <div class=\"colab-df-container\">\n",
              "      <div>\n",
              "<style scoped>\n",
              "    .dataframe tbody tr th:only-of-type {\n",
              "        vertical-align: middle;\n",
              "    }\n",
              "\n",
              "    .dataframe tbody tr th {\n",
              "        vertical-align: top;\n",
              "    }\n",
              "\n",
              "    .dataframe thead th {\n",
              "        text-align: right;\n",
              "    }\n",
              "</style>\n",
              "<table border=\"1\" class=\"dataframe\">\n",
              "  <thead>\n",
              "    <tr style=\"text-align: right;\">\n",
              "      <th></th>\n",
              "      <th>Ranking</th>\n",
              "      <th>Nis</th>\n",
              "      <th>Nama</th>\n",
              "      <th>Sekolah</th>\n",
              "      <th>Nama PTN</th>\n",
              "      <th>Jurusan</th>\n",
              "      <th>PG</th>\n",
              "      <th>Penalaran Umum</th>\n",
              "      <th>Pemahaman bacaan &amp; menulis</th>\n",
              "      <th>Pengetahuan Umum</th>\n",
              "      <th>Pengetahuan Kuantitatif</th>\n",
              "      <th>Inggris</th>\n",
              "      <th>Ekonomi</th>\n",
              "      <th>Sosiologi</th>\n",
              "      <th>Sejarah</th>\n",
              "      <th>Geografi</th>\n",
              "      <th>Nilai TPS</th>\n",
              "      <th>Nilai TKS</th>\n",
              "      <th>Skor UTBK</th>\n",
              "      <th>Status Ke1an</th>\n",
              "    </tr>\n",
              "  </thead>\n",
              "  <tbody>\n",
              "    <tr>\n",
              "      <th>0</th>\n",
              "      <td>1</td>\n",
              "      <td>20307332037</td>\n",
              "      <td>Rizqi Zuhdi Amarta</td>\n",
              "      <td>SMAN 1 PADANG</td>\n",
              "      <td>UNIVERSITAS GAJAH MADA</td>\n",
              "      <td>BANGUNAN SOSIAL DAN KESEJAHTERAAN</td>\n",
              "      <td>653.11</td>\n",
              "      <td>476</td>\n",
              "      <td>476</td>\n",
              "      <td>598</td>\n",
              "      <td>658</td>\n",
              "      <td>672</td>\n",
              "      <td>621</td>\n",
              "      <td>622</td>\n",
              "      <td>559</td>\n",
              "      <td>642</td>\n",
              "      <td>622.76</td>\n",
              "      <td>610.85</td>\n",
              "      <td>617.47</td>\n",
              "      <td>0</td>\n",
              "    </tr>\n",
              "    <tr>\n",
              "      <th>1</th>\n",
              "      <td>2</td>\n",
              "      <td>20307331061</td>\n",
              "      <td>Resti Natalia Chaniago</td>\n",
              "      <td>SMAN 5 PADANG</td>\n",
              "      <td>UNIVERSITAS GADJAH MADA</td>\n",
              "      <td>SEJARAH</td>\n",
              "      <td>484.58</td>\n",
              "      <td>525</td>\n",
              "      <td>525</td>\n",
              "      <td>595</td>\n",
              "      <td>595</td>\n",
              "      <td>574</td>\n",
              "      <td>560</td>\n",
              "      <td>560</td>\n",
              "      <td>560</td>\n",
              "      <td>595</td>\n",
              "      <td>568.75</td>\n",
              "      <td>569.80</td>\n",
              "      <td>569.28</td>\n",
              "      <td>1</td>\n",
              "    </tr>\n",
              "    <tr>\n",
              "      <th>2</th>\n",
              "      <td>3</td>\n",
              "      <td>20307331062</td>\n",
              "      <td>Indah Widia Sari</td>\n",
              "      <td>SMAN 5 PADANG</td>\n",
              "      <td>UNIVERSITAS INDONESIA</td>\n",
              "      <td>SASTRA INGGRIS</td>\n",
              "      <td>481.70</td>\n",
              "      <td>525</td>\n",
              "      <td>525</td>\n",
              "      <td>560</td>\n",
              "      <td>560</td>\n",
              "      <td>560</td>\n",
              "      <td>560</td>\n",
              "      <td>525</td>\n",
              "      <td>595</td>\n",
              "      <td>560</td>\n",
              "      <td>560.00</td>\n",
              "      <td>560.00</td>\n",
              "      <td>560.00</td>\n",
              "      <td>1</td>\n",
              "    </tr>\n",
              "    <tr>\n",
              "      <th>3</th>\n",
              "      <td>4</td>\n",
              "      <td>20307332049</td>\n",
              "      <td>Mulyadi</td>\n",
              "      <td>MAN 2 PADANG</td>\n",
              "      <td>UNIVERSITAS INDONESIA</td>\n",
              "      <td>SASTRA INDONESIA</td>\n",
              "      <td>465.99</td>\n",
              "      <td>525</td>\n",
              "      <td>525</td>\n",
              "      <td>560</td>\n",
              "      <td>525</td>\n",
              "      <td>543</td>\n",
              "      <td>560</td>\n",
              "      <td>525</td>\n",
              "      <td>560</td>\n",
              "      <td>525</td>\n",
              "      <td>542.50</td>\n",
              "      <td>542.50</td>\n",
              "      <td>542.50</td>\n",
              "      <td>1</td>\n",
              "    </tr>\n",
              "    <tr>\n",
              "      <th>4</th>\n",
              "      <td>5</td>\n",
              "      <td>20307331058</td>\n",
              "      <td>Elfaiza Warsya</td>\n",
              "      <td>SMA DONBOSCO</td>\n",
              "      <td>UNIVERSITAS INDONESIA</td>\n",
              "      <td>ILMU ADMINISTRASI NEGARA</td>\n",
              "      <td>485.77</td>\n",
              "      <td>560</td>\n",
              "      <td>560</td>\n",
              "      <td>490</td>\n",
              "      <td>560</td>\n",
              "      <td>546</td>\n",
              "      <td>525</td>\n",
              "      <td>595</td>\n",
              "      <td>490</td>\n",
              "      <td>490</td>\n",
              "      <td>551.25</td>\n",
              "      <td>529.20</td>\n",
              "      <td>540.23</td>\n",
              "      <td>1</td>\n",
              "    </tr>\n",
              "  </tbody>\n",
              "</table>\n",
              "</div>\n",
              "      <button class=\"colab-df-convert\" onclick=\"convertToInteractive('df-c9a6a517-ad53-44cb-898f-546a7e8a6f42')\"\n",
              "              title=\"Convert this dataframe to an interactive table.\"\n",
              "              style=\"display:none;\">\n",
              "        \n",
              "  <svg xmlns=\"http://www.w3.org/2000/svg\" height=\"24px\"viewBox=\"0 0 24 24\"\n",
              "       width=\"24px\">\n",
              "    <path d=\"M0 0h24v24H0V0z\" fill=\"none\"/>\n",
              "    <path d=\"M18.56 5.44l.94 2.06.94-2.06 2.06-.94-2.06-.94-.94-2.06-.94 2.06-2.06.94zm-11 1L8.5 8.5l.94-2.06 2.06-.94-2.06-.94L8.5 2.5l-.94 2.06-2.06.94zm10 10l.94 2.06.94-2.06 2.06-.94-2.06-.94-.94-2.06-.94 2.06-2.06.94z\"/><path d=\"M17.41 7.96l-1.37-1.37c-.4-.4-.92-.59-1.43-.59-.52 0-1.04.2-1.43.59L10.3 9.45l-7.72 7.72c-.78.78-.78 2.05 0 2.83L4 21.41c.39.39.9.59 1.41.59.51 0 1.02-.2 1.41-.59l7.78-7.78 2.81-2.81c.8-.78.8-2.07 0-2.86zM5.41 20L4 18.59l7.72-7.72 1.47 1.35L5.41 20z\"/>\n",
              "  </svg>\n",
              "      </button>\n",
              "      \n",
              "  <style>\n",
              "    .colab-df-container {\n",
              "      display:flex;\n",
              "      flex-wrap:wrap;\n",
              "      gap: 12px;\n",
              "    }\n",
              "\n",
              "    .colab-df-convert {\n",
              "      background-color: #E8F0FE;\n",
              "      border: none;\n",
              "      border-radius: 50%;\n",
              "      cursor: pointer;\n",
              "      display: none;\n",
              "      fill: #1967D2;\n",
              "      height: 32px;\n",
              "      padding: 0 0 0 0;\n",
              "      width: 32px;\n",
              "    }\n",
              "\n",
              "    .colab-df-convert:hover {\n",
              "      background-color: #E2EBFA;\n",
              "      box-shadow: 0px 1px 2px rgba(60, 64, 67, 0.3), 0px 1px 3px 1px rgba(60, 64, 67, 0.15);\n",
              "      fill: #174EA6;\n",
              "    }\n",
              "\n",
              "    [theme=dark] .colab-df-convert {\n",
              "      background-color: #3B4455;\n",
              "      fill: #D2E3FC;\n",
              "    }\n",
              "\n",
              "    [theme=dark] .colab-df-convert:hover {\n",
              "      background-color: #434B5C;\n",
              "      box-shadow: 0px 1px 3px 1px rgba(0, 0, 0, 0.15);\n",
              "      filter: drop-shadow(0px 1px 2px rgba(0, 0, 0, 0.3));\n",
              "      fill: #FFFFFF;\n",
              "    }\n",
              "  </style>\n",
              "\n",
              "      <script>\n",
              "        const buttonEl =\n",
              "          document.querySelector('#df-c9a6a517-ad53-44cb-898f-546a7e8a6f42 button.colab-df-convert');\n",
              "        buttonEl.style.display =\n",
              "          google.colab.kernel.accessAllowed ? 'block' : 'none';\n",
              "\n",
              "        async function convertToInteractive(key) {\n",
              "          const element = document.querySelector('#df-c9a6a517-ad53-44cb-898f-546a7e8a6f42');\n",
              "          const dataTable =\n",
              "            await google.colab.kernel.invokeFunction('convertToInteractive',\n",
              "                                                     [key], {});\n",
              "          if (!dataTable) return;\n",
              "\n",
              "          const docLinkHtml = 'Like what you see? Visit the ' +\n",
              "            '<a target=\"_blank\" href=https://colab.research.google.com/notebooks/data_table.ipynb>data table notebook</a>'\n",
              "            + ' to learn more about interactive tables.';\n",
              "          element.innerHTML = '';\n",
              "          dataTable['output_type'] = 'display_data';\n",
              "          await google.colab.output.renderOutput(dataTable, element);\n",
              "          const docLink = document.createElement('div');\n",
              "          docLink.innerHTML = docLinkHtml;\n",
              "          element.appendChild(docLink);\n",
              "        }\n",
              "      </script>\n",
              "    </div>\n",
              "  </div>\n",
              "  "
            ]
          },
          "metadata": {},
          "execution_count": 42
        }
      ]
    },
    {
      "cell_type": "code",
      "source": [
        "from sklearn.model_selection import train_test_split\n",
        "X_train, X_test, y_train, y_test = train_test_split(X, y, test_size=0.20)"
      ],
      "metadata": {
        "id": "eSa1zGA3oZnx"
      },
      "execution_count": 43,
      "outputs": []
    },
    {
      "cell_type": "code",
      "source": [
        "from sklearn.preprocessing import StandardScaler\n",
        "scaler = StandardScaler()\n",
        "scaler.fit(X_train)\n",
        "\n",
        "X_train = scaler.transform(X_train)\n",
        "X_test = scaler.transform(X_test)\n"
      ],
      "metadata": {
        "id": "iOJ6H8ccodN2"
      },
      "execution_count": 44,
      "outputs": []
    },
    {
      "cell_type": "code",
      "source": [
        "from sklearn.neighbors import KNeighborsClassifier\n",
        "classifier = KNeighborsClassifier(n_neighbors=5)\n",
        "classifier.fit(X_train, y_train)"
      ],
      "metadata": {
        "colab": {
          "base_uri": "https://localhost:8080/"
        },
        "id": "ADBUpQBdohgc",
        "outputId": "4d9f88bd-f87a-4bca-cc35-2c19135fc1a2"
      },
      "execution_count": 46,
      "outputs": [
        {
          "output_type": "execute_result",
          "data": {
            "text/plain": [
              "KNeighborsClassifier()"
            ]
          },
          "metadata": {},
          "execution_count": 46
        }
      ]
    },
    {
      "cell_type": "code",
      "source": [
        "y_pred = classifier.predict(X_test)"
      ],
      "metadata": {
        "id": "YcdInIweojlF"
      },
      "execution_count": 47,
      "outputs": []
    },
    {
      "cell_type": "code",
      "source": [
        "from sklearn.metrics import classification_report, confusion_matrix\n",
        "print(confusion_matrix(y_test, y_pred))\n",
        "print(classification_report(y_test, y_pred))"
      ],
      "metadata": {
        "colab": {
          "base_uri": "https://localhost:8080/"
        },
        "id": "rZ2zssjeoli7",
        "outputId": "2cae2d4a-3640-4cff-8213-13d2f3493ba0"
      },
      "execution_count": 48,
      "outputs": [
        {
          "output_type": "stream",
          "name": "stdout",
          "text": [
            "[[7 0]\n",
            " [0 8]]\n",
            "              precision    recall  f1-score   support\n",
            "\n",
            "           0       1.00      1.00      1.00         7\n",
            "           1       1.00      1.00      1.00         8\n",
            "\n",
            "    accuracy                           1.00        15\n",
            "   macro avg       1.00      1.00      1.00        15\n",
            "weighted avg       1.00      1.00      1.00        15\n",
            "\n"
          ]
        }
      ]
    },
    {
      "cell_type": "code",
      "source": [
        "error = []\n",
        "\n",
        "# Calculating error for K values between 1 and 40\n",
        "for i in range(1, 40):\n",
        "    knn = KNeighborsClassifier(n_neighbors=i)\n",
        "    knn.fit(X_train, y_train)\n",
        "    pred_i = knn.predict(X_test)\n",
        "    error.append(np.mean(pred_i != y_test))"
      ],
      "metadata": {
        "id": "XuhGjKFJooLj"
      },
      "execution_count": 49,
      "outputs": []
    },
    {
      "cell_type": "code",
      "source": [
        "plt.figure(figsize=(12, 6))\n",
        "plt.plot(range(1, 40), error, color='green', linestyle='dashed', marker='o',\n",
        "         markerfacecolor='blue', markersize=10)\n",
        "plt.title('Error Rate K Value')\n",
        "plt.xlabel('K Value')\n",
        "plt.ylabel('Mean Error')"
      ],
      "metadata": {
        "colab": {
          "base_uri": "https://localhost:8080/",
          "height": 422
        },
        "id": "xA6WmR8kotHX",
        "outputId": "ffb28d90-12ba-407e-c78b-cee90bdb529e"
      },
      "execution_count": 51,
      "outputs": [
        {
          "output_type": "execute_result",
          "data": {
            "text/plain": [
              "Text(0, 0.5, 'Mean Error')"
            ]
          },
          "metadata": {},
          "execution_count": 51
        },
        {
          "output_type": "display_data",
          "data": {
            "text/plain": [
              "<Figure size 864x432 with 1 Axes>"
            ],
            "image/png": "[encoded data removed]"
          },
          "metadata": {
            "needs_background": "light"
          }
        }
      ]
    }
  ]
}