{
  "nbformat": 4,
  "nbformat_minor": 0,
  "metadata": {
    "colab": {
      "name": "Proyek APM_KNN_fix.ipynb",
      "provenance": [],
      "authorship_tag": "ABX9TyNZ8RuVLe+3xV27MxdmPtbl",
      "include_colab_link": true
    },
    "kernelspec": {
      "name": "python3",
      "display_name": "Python 3"
    },
    "language_info": {
      "name": "python"
    }
  },
  "cells": [
    {
      "cell_type": "markdown",
      "metadata": {
        "id": "view-in-github",
        "colab_type": "text"
      },
      "source": [
        "<a href=\"https://colab.research.google.com/github/LiscaAngriani/APM_Kelompok3/blob/main/Proyek_APM_KNN_fix.ipynb\" target=\"_parent\"><img src=\"https://colab.research.google.com/assets/colab-badge.svg\" alt=\"Open In Colab\"/></a>"
      ]
    },
    {
      "cell_type": "code",
      "execution_count": null,
      "metadata": {
        "id": "CIf6GAlmTvmt"
      },
      "outputs": [],
      "source": [
        "#Importing the libraries  \n",
        "\n",
        "import numpy as np \n",
        "import matplotlib.pyplot as plt  \n",
        "import pandas as pd  "
      ]
    },
    {
      "cell_type": "code",
      "source": [
        "#Importing the data\n",
        "\n",
        "dataset= pd.read_csv('nilai_to.csv')  \n",
        "X = dataset.iloc[:, [18,19]].values\n",
        "y = dataset.iloc[:, 19].values\n",
        "\n",
        "dataset.head()"
      ],
      "metadata": {
        "colab": {
          "base_uri": "https://localhost:8080/",
          "height": 461
        },
        "id": "2viUj8Lbemg_",
        "outputId": "1ea28256-615f-4983-9995-b87964249aa8"
      },
      "execution_count": null,
      "outputs": [
        {
          "output_type": "execute_result",
          "data": {
            "text/plain": [
              "   Ranking          Nis                    Nama        Sekolah  \\\n",
              "0        1  20307332037      Rizqi Zuhdi Amarta  SMAN 1 PADANG   \n",
              "1        2  20307331061  Resti Natalia Chaniago  SMAN 5 PADANG   \n",
              "2        3  20307331062        Indah Widia Sari  SMAN 5 PADANG   \n",
              "3        4  20307332049                 Mulyadi   MAN 2 PADANG   \n",
              "4        5  20307331058          Elfaiza Warsya   SMA DONBOSCO   \n",
              "\n",
              "                  Nama PTN                            Jurusan      PG  \\\n",
              "0   UNIVERSITAS GAJAH MADA  BANGUNAN SOSIAL DAN KESEJAHTERAAN  653.11   \n",
              "1  UNIVERSITAS GADJAH MADA                            SEJARAH  484.58   \n",
              "2    UNIVERSITAS INDONESIA                     SASTRA INGGRIS  481.70   \n",
              "3    UNIVERSITAS INDONESIA                   SASTRA INDONESIA  465.99   \n",
              "4    UNIVERSITAS INDONESIA           ILMU ADMINISTRASI NEGARA  485.77   \n",
              "\n",
              "   Penalaran Umum  Pemahaman bacaan & menulis  Pengetahuan Umum  \\\n",
              "0             476                         476               598   \n",
              "1             525                         525               595   \n",
              "2             525                         525               560   \n",
              "3             525                         525               560   \n",
              "4             560                         560               490   \n",
              "\n",
              "   Pengetahuan Kuantitatif  Inggris  Ekonomi  Sosiologi  Sejarah  Geografi  \\\n",
              "0                      658      672      621        622      559       642   \n",
              "1                      595      574      560        560      560       595   \n",
              "2                      560      560      560        525      595       560   \n",
              "3                      525      543      560        525      560       525   \n",
              "4                      560      546      525        595      490       490   \n",
              "\n",
              "   Nilai TPS  Nilai TKS  Skor UTBK  Status Ke1an  \n",
              "0     622.76     610.85     617.47             0  \n",
              "1     568.75     569.80     569.28             1  \n",
              "2     560.00     560.00     560.00             1  \n",
              "3     542.50     542.50     542.50             1  \n",
              "4     551.25     529.20     540.23             1  "
            ],
            "text/html": [
              "\n",
              "  <div id=\"df-38e6bfb0-710c-40fd-afdc-0f3088433a3c\">\n",
              "    <div class=\"colab-df-container\">\n",
              "      <div>\n",
              "<style scoped>\n",
              "    .dataframe tbody tr th:only-of-type {\n",
              "        vertical-align: middle;\n",
              "    }\n",
              "\n",
              "    .dataframe tbody tr th {\n",
              "        vertical-align: top;\n",
              "    }\n",
              "\n",
              "    .dataframe thead th {\n",
              "        text-align: right;\n",
              "    }\n",
              "</style>\n",
              "<table border=\"1\" class=\"dataframe\">\n",
              "  <thead>\n",
              "    <tr style=\"text-align: right;\">\n",
              "      <th></th>\n",
              "      <th>Ranking</th>\n",
              "      <th>Nis</th>\n",
              "      <th>Nama</th>\n",
              "      <th>Sekolah</th>\n",
              "      <th>Nama PTN</th>\n",
              "      <th>Jurusan</th>\n",
              "      <th>PG</th>\n",
              "      <th>Penalaran Umum</th>\n",
              "      <th>Pemahaman bacaan &amp; menulis</th>\n",
              "      <th>Pengetahuan Umum</th>\n",
              "      <th>Pengetahuan Kuantitatif</th>\n",
              "      <th>Inggris</th>\n",
              "      <th>Ekonomi</th>\n",
              "      <th>Sosiologi</th>\n",
              "      <th>Sejarah</th>\n",
              "      <th>Geografi</th>\n",
              "      <th>Nilai TPS</th>\n",
              "      <th>Nilai TKS</th>\n",
              "      <th>Skor UTBK</th>\n",
              "      <th>Status Ke1an</th>\n",
              "    </tr>\n",
              "  </thead>\n",
              "  <tbody>\n",
              "    <tr>\n",
              "      <th>0</th>\n",
              "      <td>1</td>\n",
              "      <td>20307332037</td>\n",
              "      <td>Rizqi Zuhdi Amarta</td>\n",
              "      <td>SMAN 1 PADANG</td>\n",
              "      <td>UNIVERSITAS GAJAH MADA</td>\n",
              "      <td>BANGUNAN SOSIAL DAN KESEJAHTERAAN</td>\n",
              "      <td>653.11</td>\n",
              "      <td>476</td>\n",
              "      <td>476</td>\n",
              "      <td>598</td>\n",
              "      <td>658</td>\n",
              "      <td>672</td>\n",
              "      <td>621</td>\n",
              "      <td>622</td>\n",
              "      <td>559</td>\n",
              "      <td>642</td>\n",
              "      <td>622.76</td>\n",
              "      <td>610.85</td>\n",
              "      <td>617.47</td>\n",
              "      <td>0</td>\n",
              "    </tr>\n",
              "    <tr>\n",
              "      <th>1</th>\n",
              "      <td>2</td>\n",
              "      <td>20307331061</td>\n",
              "      <td>Resti Natalia Chaniago</td>\n",
              "      <td>SMAN 5 PADANG</td>\n",
              "      <td>UNIVERSITAS GADJAH MADA</td>\n",
              "      <td>SEJARAH</td>\n",
              "      <td>484.58</td>\n",
              "      <td>525</td>\n",
              "      <td>525</td>\n",
              "      <td>595</td>\n",
              "      <td>595</td>\n",
              "      <td>574</td>\n",
              "      <td>560</td>\n",
              "      <td>560</td>\n",
              "      <td>560</td>\n",
              "      <td>595</td>\n",
              "      <td>568.75</td>\n",
              "      <td>569.80</td>\n",
              "      <td>569.28</td>\n",
              "      <td>1</td>\n",
              "    </tr>\n",
              "    <tr>\n",
              "      <th>2</th>\n",
              "      <td>3</td>\n",
              "      <td>20307331062</td>\n",
              "      <td>Indah Widia Sari</td>\n",
              "      <td>SMAN 5 PADANG</td>\n",
              "      <td>UNIVERSITAS INDONESIA</td>\n",
              "      <td>SASTRA INGGRIS</td>\n",
              "      <td>481.70</td>\n",
              "      <td>525</td>\n",
              "      <td>525</td>\n",
              "      <td>560</td>\n",
              "      <td>560</td>\n",
              "      <td>560</td>\n",
              "      <td>560</td>\n",
              "      <td>525</td>\n",
              "      <td>595</td>\n",
              "      <td>560</td>\n",
              "      <td>560.00</td>\n",
              "      <td>560.00</td>\n",
              "      <td>560.00</td>\n",
              "      <td>1</td>\n",
              "    </tr>\n",
              "    <tr>\n",
              "      <th>3</th>\n",
              "      <td>4</td>\n",
              "      <td>20307332049</td>\n",
              "      <td>Mulyadi</td>\n",
              "      <td>MAN 2 PADANG</td>\n",
              "      <td>UNIVERSITAS INDONESIA</td>\n",
              "      <td>SASTRA INDONESIA</td>\n",
              "      <td>465.99</td>\n",
              "      <td>525</td>\n",
              "      <td>525</td>\n",
              "      <td>560</td>\n",
              "      <td>525</td>\n",
              "      <td>543</td>\n",
              "      <td>560</td>\n",
              "      <td>525</td>\n",
              "      <td>560</td>\n",
              "      <td>525</td>\n",
              "      <td>542.50</td>\n",
              "      <td>542.50</td>\n",
              "      <td>542.50</td>\n",
              "      <td>1</td>\n",
              "    </tr>\n",
              "    <tr>\n",
              "      <th>4</th>\n",
              "      <td>5</td>\n",
              "      <td>20307331058</td>\n",
              "      <td>Elfaiza Warsya</td>\n",
              "      <td>SMA DONBOSCO</td>\n",
              "      <td>UNIVERSITAS INDONESIA</td>\n",
              "      <td>ILMU ADMINISTRASI NEGARA</td>\n",
              "      <td>485.77</td>\n",
              "      <td>560</td>\n",
              "      <td>560</td>\n",
              "      <td>490</td>\n",
              "      <td>560</td>\n",
              "      <td>546</td>\n",
              "      <td>525</td>\n",
              "      <td>595</td>\n",
              "      <td>490</td>\n",
              "      <td>490</td>\n",
              "      <td>551.25</td>\n",
              "      <td>529.20</td>\n",
              "      <td>540.23</td>\n",
              "      <td>1</td>\n",
              "    </tr>\n",
              "  </tbody>\n",
              "</table>\n",
              "</div>\n",
              "      <button class=\"colab-df-convert\" onclick=\"convertToInteractive('df-38e6bfb0-710c-40fd-afdc-0f3088433a3c')\"\n",
              "              title=\"Convert this dataframe to an interactive table.\"\n",
              "              style=\"display:none;\">\n",
              "        \n",
              "  <svg xmlns=\"http://www.w3.org/2000/svg\" height=\"24px\"viewBox=\"0 0 24 24\"\n",
              "       width=\"24px\">\n",
              "    <path d=\"M0 0h24v24H0V0z\" fill=\"none\"/>\n",
              "    <path d=\"M18.56 5.44l.94 2.06.94-2.06 2.06-.94-2.06-.94-.94-2.06-.94 2.06-2.06.94zm-11 1L8.5 8.5l.94-2.06 2.06-.94-2.06-.94L8.5 2.5l-.94 2.06-2.06.94zm10 10l.94 2.06.94-2.06 2.06-.94-2.06-.94-.94-2.06-.94 2.06-2.06.94z\"/><path d=\"M17.41 7.96l-1.37-1.37c-.4-.4-.92-.59-1.43-.59-.52 0-1.04.2-1.43.59L10.3 9.45l-7.72 7.72c-.78.78-.78 2.05 0 2.83L4 21.41c.39.39.9.59 1.41.59.51 0 1.02-.2 1.41-.59l7.78-7.78 2.81-2.81c.8-.78.8-2.07 0-2.86zM5.41 20L4 18.59l7.72-7.72 1.47 1.35L5.41 20z\"/>\n",
              "  </svg>\n",
              "      </button>\n",
              "      \n",
              "  <style>\n",
              "    .colab-df-container {\n",
              "      display:flex;\n",
              "      flex-wrap:wrap;\n",
              "      gap: 12px;\n",
              "    }\n",
              "\n",
              "    .colab-df-convert {\n",
              "      background-color: #E8F0FE;\n",
              "      border: none;\n",
              "      border-radius: 50%;\n",
              "      cursor: pointer;\n",
              "      display: none;\n",
              "      fill: #1967D2;\n",
              "      height: 32px;\n",
              "      padding: 0 0 0 0;\n",
              "      width: 32px;\n",
              "    }\n",
              "\n",
              "    .colab-df-convert:hover {\n",
              "      background-color: #E2EBFA;\n",
              "      box-shadow: 0px 1px 2px rgba(60, 64, 67, 0.3), 0px 1px 3px 1px rgba(60, 64, 67, 0.15);\n",
              "      fill: #174EA6;\n",
              "    }\n",
              "\n",
              "    [theme=dark] .colab-df-convert {\n",
              "      background-color: #3B4455;\n",
              "      fill: #D2E3FC;\n",
              "    }\n",
              "\n",
              "    [theme=dark] .colab-df-convert:hover {\n",
              "      background-color: #434B5C;\n",
              "      box-shadow: 0px 1px 3px 1px rgba(0, 0, 0, 0.15);\n",
              "      filter: drop-shadow(0px 1px 2px rgba(0, 0, 0, 0.3));\n",
              "      fill: #FFFFFF;\n",
              "    }\n",
              "  </style>\n",
              "\n",
              "      <script>\n",
              "        const buttonEl =\n",
              "          document.querySelector('#df-38e6bfb0-710c-40fd-afdc-0f3088433a3c button.colab-df-convert');\n",
              "        buttonEl.style.display =\n",
              "          google.colab.kernel.accessAllowed ? 'block' : 'none';\n",
              "\n",
              "        async function convertToInteractive(key) {\n",
              "          const element = document.querySelector('#df-38e6bfb0-710c-40fd-afdc-0f3088433a3c');\n",
              "          const dataTable =\n",
              "            await google.colab.kernel.invokeFunction('convertToInteractive',\n",
              "                                                     [key], {});\n",
              "          if (!dataTable) return;\n",
              "\n",
              "          const docLinkHtml = 'Like what you see? Visit the ' +\n",
              "            '<a target=\"_blank\" href=https://colab.research.google.com/notebooks/data_table.ipynb>data table notebook</a>'\n",
              "            + ' to learn more about interactive tables.';\n",
              "          element.innerHTML = '';\n",
              "          dataTable['output_type'] = 'display_data';\n",
              "          await google.colab.output.renderOutput(dataTable, element);\n",
              "          const docLink = document.createElement('div');\n",
              "          docLink.innerHTML = docLinkHtml;\n",
              "          element.appendChild(docLink);\n",
              "        }\n",
              "      </script>\n",
              "    </div>\n",
              "  </div>\n",
              "  "
            ]
          },
          "metadata": {},
          "execution_count": 35
        }
      ]
    },
    {
      "cell_type": "code",
      "source": [
        "from sklearn.model_selection import train_test_split\n",
        "X_train, X_test, y_train, y_test = train_test_split(X, y, test_size = 0.25, random_state = 0)"
      ],
      "metadata": {
        "id": "7U4PKId4es9P"
      },
      "execution_count": null,
      "outputs": []
    },
    {
      "cell_type": "code",
      "source": [
        "print(X_train)"
      ],
      "metadata": {
        "colab": {
          "base_uri": "https://localhost:8080/"
        },
        "id": "BppnrU5WfbQ_",
        "outputId": "6fffe441-14e7-446d-85fb-a114e2ca7c8d"
      },
      "execution_count": null,
      "outputs": [
        {
          "output_type": "stream",
          "name": "stdout",
          "text": [
            "[[445.9    0.  ]\n",
            " [540.23   1.  ]\n",
            " [226.52   0.  ]\n",
            " [409.68   0.  ]\n",
            " [560.     1.  ]\n",
            " [448.53   0.  ]\n",
            " [522.73   1.  ]\n",
            " [542.5    1.  ]\n",
            " [353.26   0.  ]\n",
            " [443.45   0.  ]\n",
            " [523.08   1.  ]\n",
            " [448.     0.  ]\n",
            " [418.43   0.  ]\n",
            " [390.25   0.  ]\n",
            " [315.7    0.  ]\n",
            " [472.5    0.  ]\n",
            " [517.65   1.  ]\n",
            " [166.53   0.  ]\n",
            " [498.93   1.  ]\n",
            " [483.     1.  ]\n",
            " [392.89   0.  ]\n",
            " [465.85   0.  ]\n",
            " [502.43   1.  ]\n",
            " [617.47   0.  ]\n",
            " [515.73   1.  ]\n",
            " [533.93   1.  ]\n",
            " [513.07   1.  ]\n",
            " [497.     1.  ]\n",
            " [224.99   0.  ]\n",
            " [523.43   1.  ]\n",
            " [518.56   0.  ]\n",
            " [485.     0.  ]\n",
            " [461.13   0.  ]\n",
            " [507.98   0.  ]\n",
            " [308.88   0.  ]\n",
            " [430.85   0.  ]\n",
            " [240.56   0.  ]\n",
            " [457.63   0.  ]\n",
            " [458.85   0.  ]\n",
            " [569.28   1.  ]\n",
            " [314.13   0.  ]\n",
            " [520.28   1.  ]\n",
            " [303.89   0.  ]\n",
            " [489.65   1.  ]\n",
            " [530.43   1.  ]\n",
            " [490.35   1.  ]\n",
            " [461.81   0.  ]\n",
            " [495.43   1.  ]\n",
            " [523.08   1.  ]\n",
            " [185.79   0.  ]\n",
            " [214.9    0.  ]\n",
            " [231.03   0.  ]\n",
            " [421.55   0.  ]\n",
            " [445.38   0.  ]]\n"
          ]
        }
      ]
    },
    {
      "cell_type": "code",
      "source": [
        "print(y_train)"
      ],
      "metadata": {
        "colab": {
          "base_uri": "https://localhost:8080/"
        },
        "id": "NO3SeIudfesN",
        "outputId": "248ab0fc-c3fd-432d-e920-8c523c6c8616"
      },
      "execution_count": null,
      "outputs": [
        {
          "output_type": "stream",
          "name": "stdout",
          "text": [
            "[0 1 0 0 1 0 1 1 0 0 1 0 0 0 0 0 1 0 1 1 0 0 1 0 1 1 1 1 0 1 0 0 0 0 0 0 0\n",
            " 0 0 1 0 1 0 1 1 1 0 1 1 0 0 0 0 0]\n"
          ]
        }
      ]
    },
    {
      "cell_type": "code",
      "source": [
        "print(X_test)"
      ],
      "metadata": {
        "colab": {
          "base_uri": "https://localhost:8080/"
        },
        "id": "aLLp-9Rmfhr3",
        "outputId": "8a5c1e58-014f-4ec2-ec8c-b22b0e0c6655"
      },
      "execution_count": null,
      "outputs": [
        {
          "output_type": "stream",
          "name": "stdout",
          "text": [
            "[[483.23   0.  ]\n",
            " [483.     0.  ]\n",
            " [419.13   0.  ]\n",
            " [490.35   1.  ]\n",
            " [476.7    0.  ]\n",
            " [408.98   0.  ]\n",
            " [524.3    1.  ]\n",
            " [309.75   0.  ]\n",
            " [466.2    0.  ]\n",
            " [113.01   0.  ]\n",
            " [334.66   0.  ]\n",
            " [483.     1.  ]\n",
            " [475.65   1.  ]\n",
            " [446.43   0.  ]\n",
            " [469.7    0.  ]\n",
            " [352.45   0.  ]\n",
            " [163.92   0.  ]\n",
            " [288.95   0.  ]]\n"
          ]
        }
      ]
    },
    {
      "cell_type": "code",
      "source": [
        "from sklearn.preprocessing import StandardScaler\n",
        "sc = StandardScaler()\n",
        "X_train = sc.fit_transform(X_train)\n",
        "X_test = sc.transform(X_test)"
      ],
      "metadata": {
        "id": "Onj-V-jLfkFh"
      },
      "execution_count": null,
      "outputs": []
    },
    {
      "cell_type": "code",
      "source": [
        "print(X_train)"
      ],
      "metadata": {
        "colab": {
          "base_uri": "https://localhost:8080/"
        },
        "id": "36lZdBdAfo_L",
        "outputId": "9de286ed-6bdb-449c-8eb9-b5f59f69f7d1"
      },
      "execution_count": null,
      "outputs": [
        {
          "output_type": "stream",
          "name": "stdout",
          "text": [
            "[[ 0.08520232 -0.79772404]\n",
            " [ 0.95578984  1.25356634]\n",
            " [-1.93949279 -0.79772404]\n",
            " [-0.24907818 -0.79772404]\n",
            " [ 1.13825051  1.25356634]\n",
            " [ 0.10947504 -0.79772404]\n",
            " [ 0.79427938  1.25356634]\n",
            " [ 0.97674005  1.25356634]\n",
            " [-0.7697879  -0.79772404]\n",
            " [ 0.06259086 -0.79772404]\n",
            " [ 0.79750959  1.25356634]\n",
            " [ 0.10458358 -0.79772404]\n",
            " [-0.16832295 -0.79772404]\n",
            " [-0.42840094 -0.79772404]\n",
            " [-1.11643549 -0.79772404]\n",
            " [ 0.33069822 -0.79772404]\n",
            " [ 0.7473952   1.25356634]\n",
            " [-2.49315064 -0.79772404]\n",
            " [ 0.57462516  1.25356634]\n",
            " [ 0.42760449  1.25356634]\n",
            " [-0.40403593 -0.79772404]\n",
            " [ 0.26932424 -0.79772404]\n",
            " [ 0.60692725  1.25356634]\n",
            " [ 1.66865086 -0.79772404]\n",
            " [ 0.7296752   1.25356634]\n",
            " [ 0.89764608  1.25356634]\n",
            " [ 0.70512561  1.25356634]\n",
            " [ 0.55681286  1.25356634]\n",
            " [-1.95361342 -0.79772404]\n",
            " [ 0.8007398   1.25356634]\n",
            " [ 0.75579375 -0.79772404]\n",
            " [ 0.44606283 -0.79772404]\n",
            " [ 0.22576257 -0.79772404]\n",
            " [ 0.65814914 -0.79772404]\n",
            " [-1.17937842 -0.79772404]\n",
            " [-0.05369667 -0.79772404]\n",
            " [-1.80991526 -0.79772404]\n",
            " [ 0.19346047 -0.79772404]\n",
            " [ 0.20472006 -0.79772404]\n",
            " [ 1.2238972   1.25356634]\n",
            " [-1.13092529 -0.79772404]\n",
            " [ 0.77166792  1.25356634]\n",
            " [-1.22543198 -0.79772404]\n",
            " [ 0.48897847  1.25356634]\n",
            " [ 0.86534398  1.25356634]\n",
            " [ 0.49543889  1.25356634]\n",
            " [ 0.2320384  -0.79772404]\n",
            " [ 0.54232307  1.25356634]\n",
            " [ 0.79750959  1.25356634]\n",
            " [-2.31539685 -0.79772404]\n",
            " [-2.04673573 -0.79772404]\n",
            " [-1.89786924 -0.79772404]\n",
            " [-0.13952795 -0.79772404]\n",
            " [ 0.08040315 -0.79772404]]\n"
          ]
        }
      ]
    },
    {
      "cell_type": "code",
      "source": [
        "from math import sqrt\n",
        "class KNN():\n",
        "  def __init__(self,k):\n",
        "    self.k=k\n",
        "    print(self.k)\n",
        "  def fit(self,X_train,y_train):\n",
        "    self.x_train=X_train\n",
        "    self.y_train=y_train\n",
        "  def calculate_euclidean(self,sample1,sample2):\n",
        "    distance=0.0\n",
        "    for i in range(len(sample1)):\n",
        "      distance+=(sample1[i]-sample2[i])**2\n",
        "    return sqrt(distance)\n",
        "  def nearest_neighbors(self,test_sample):\n",
        "    distances=[]\n",
        "    for i in range(len(self.x_train)):\n",
        "      distances.append((self.y_train[i],self.calculate_euclidean(self.x_train[i],test_sample)))\n",
        "    distances.sort(key=lambda x:x[1])\n",
        "    neighbors=[]\n",
        "    for i in range(self.k):\n",
        "      neighbors.append(distances[i][0])\n",
        "    return neighbors\n",
        "  def predict(self,test_set):\n",
        "    predictions=[]\n",
        "    for test_sample in test_set:\n",
        "      neighbors=self.nearest_neighbors(test_sample)\n",
        "      labels=[sample for sample in neighbors]\n",
        "      prediction=max(labels,key=labels.count)\n",
        "      predictions.append(prediction)\n",
        "    return predictions"
      ],
      "metadata": {
        "id": "BsUtLnlxftYP"
      },
      "execution_count": null,
      "outputs": []
    },
    {
      "cell_type": "code",
      "source": [
        "model=KNN(5)\n",
        "model.fit(X_train,y_train)"
      ],
      "metadata": {
        "colab": {
          "base_uri": "https://localhost:8080/"
        },
        "id": "zkv2R63pfwgv",
        "outputId": "2944fa03-1b98-4918-d1a4-1a0a5b72b456"
      },
      "execution_count": null,
      "outputs": [
        {
          "output_type": "stream",
          "name": "stdout",
          "text": [
            "5\n"
          ]
        }
      ]
    },
    {
      "cell_type": "code",
      "source": [
        "from sklearn.neighbors import KNeighborsClassifier\n",
        "classifier = KNeighborsClassifier(n_neighbors = 5, metric = 'minkowski', p = 2)\n",
        "classifier.fit(X_train, y_train)"
      ],
      "metadata": {
        "colab": {
          "base_uri": "https://localhost:8080/"
        },
        "id": "5b5ZHb-PfysT",
        "outputId": "52b46f27-8387-4271-cd07-cab8e267168d"
      },
      "execution_count": null,
      "outputs": [
        {
          "output_type": "execute_result",
          "data": {
            "text/plain": [
              "KNeighborsClassifier()"
            ]
          },
          "metadata": {},
          "execution_count": 44
        }
      ]
    },
    {
      "cell_type": "code",
      "source": [
        "y_pred = classifier.predict(X_test)"
      ],
      "metadata": {
        "id": "UVAC6svRf06R"
      },
      "execution_count": null,
      "outputs": []
    },
    {
      "cell_type": "code",
      "source": [
        "predictions=model.predict(X_test)"
      ],
      "metadata": {
        "id": "2BEVXBzlf3CY"
      },
      "execution_count": null,
      "outputs": []
    },
    {
      "cell_type": "code",
      "source": [
        "from sklearn.metrics import confusion_matrix, accuracy_score\n",
        "cm = confusion_matrix(y_test, y_pred)\n",
        "print(cm)\n",
        "accuracy_score(y_test, y_pred)"
      ],
      "metadata": {
        "colab": {
          "base_uri": "https://localhost:8080/"
        },
        "id": "748-Hlrhf5OJ",
        "outputId": "049b75f2-cefe-4234-8a6f-a5441142ec44"
      },
      "execution_count": null,
      "outputs": [
        {
          "output_type": "stream",
          "name": "stdout",
          "text": [
            "[[14  0]\n",
            " [ 0  4]]\n"
          ]
        },
        {
          "output_type": "execute_result",
          "data": {
            "text/plain": [
              "1.0"
            ]
          },
          "metadata": {},
          "execution_count": 48
        }
      ]
    },
    {
      "cell_type": "code",
      "source": [
        "cm = confusion_matrix(y_test, predictions)\n",
        "print(cm)\n",
        "accuracy_score(y_test, predictions)"
      ],
      "metadata": {
        "colab": {
          "base_uri": "https://localhost:8080/"
        },
        "id": "6nr_VBYUf7UT",
        "outputId": "ffb29523-2fa1-494a-e859-c19523476b6c"
      },
      "execution_count": null,
      "outputs": [
        {
          "output_type": "stream",
          "name": "stdout",
          "text": [
            "[[14  0]\n",
            " [ 0  4]]\n"
          ]
        },
        {
          "output_type": "execute_result",
          "data": {
            "text/plain": [
              "1.0"
            ]
          },
          "metadata": {},
          "execution_count": 49
        }
      ]
    },
    {
      "cell_type": "code",
      "source": [
        "from matplotlib.colors import ListedColormap\n",
        "X_set, y_set = sc.inverse_transform(X_test), y_test\n",
        "X1, X2 = np.meshgrid(np.arange(start = X_set[:, 0].min() - 10, stop = X_set[:, 0].max() + 10, step = 1),\n",
        "                     np.arange(start = X_set[:, 1].min() - 1000, stop = X_set[:, 1].max() + 1000, step = 1))\n",
        "plt.contourf(X1, X2, classifier.predict(sc.transform(np.array([X1.ravel(), X2.ravel()]).T)).reshape(X1.shape),\n",
        "             alpha = 0.75, cmap = ListedColormap(('red', 'blue')))\n",
        "plt.xlim(X1.min(), X1.max())\n",
        "plt.ylim(X2.min(), X2.max())\n",
        "for i, j in enumerate(np.unique(y_set)):\n",
        "    plt.scatter(X_set[y_set == j, 0], X_set[y_set == j, 1], c = ListedColormap(('red', 'blue'))(i), label = j)\n",
        "plt.title('KNN')\n",
        "plt.xlabel('Skor UTBK')\n",
        "plt.ylabel('Status Kelulusan')\n",
        "plt.legend()\n",
        "plt.show()"
      ],
      "metadata": {
        "colab": {
          "base_uri": "https://localhost:8080/",
          "height": 333
        },
        "id": "mPjdS3gOgdAK",
        "outputId": "e3b1144e-741e-4fa3-c9e5-3afc44cfb89c"
      },
      "execution_count": 51,
      "outputs": [
        {
          "output_type": "stream",
          "name": "stderr",
          "text": [
            "*c* argument looks like a single numeric RGB or RGBA sequence, which should be avoided as value-mapping will have precedence in case its length matches with *x* & *y*.  Please use the *color* keyword-argument or provide a 2-D array with a single row if you intend to specify the same RGB or RGBA value for all points.\n"
          ]
        },
        {
          "output_type": "display_data",
          "data": {
            "text/plain": [
              "<Figure size 432x288 with 1 Axes>"
            ],
            "image/png": "[encoded data removed]"
          },
          "metadata": {
            "needs_background": "light"
          }
        }
      ]
    }
  ]
}